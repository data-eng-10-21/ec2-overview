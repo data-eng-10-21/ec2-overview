{
 "cells": [
  {
   "cell_type": "markdown",
   "metadata": {},
   "source": [
    "# Understanding EC2 Servers"
   ]
  },
  {
   "cell_type": "markdown",
   "metadata": {},
   "source": [
    "### Designing a Web Server"
   ]
  },
  {
   "cell_type": "markdown",
   "metadata": {},
   "source": [
    "When we deploy our application, regardless of the cloud service that we use, there are various technologies that are involved.  Take a look at the diagram below, to get an overview of the different components."
   ]
  },
  {
   "cell_type": "markdown",
   "metadata": {},
   "source": [
    "<img src=\"./normal_setup.jpg\" width=\"40%\">"
   ]
  },
  {
   "cell_type": "markdown",
   "metadata": {},
   "source": [
    "So let's get a sense of what is involved."
   ]
  },
  {
   "cell_type": "markdown",
   "metadata": {},
   "source": [
    "* **Server**\n",
    "\n",
    "By the server, we mean the computer, or machine, that hosts our application.  This is the computer that will have web application -- like flask.  We'll place our application logic on this computer, so that users can reach our website."
   ]
  },
  {
   "cell_type": "markdown",
   "metadata": {},
   "source": [
    "* **Hard Drive**\n",
    "\n",
    "The hard drive is a data storage device.  We need this on our server to store any data from our application code to the underlying operating system like Windows or Linux.  While closely related to the server, note that we can add external hard drives, or even remove and replace a hard drive."
   ]
  },
  {
   "cell_type": "markdown",
   "metadata": {},
   "source": [
    "* **ip address** \n",
    "\n",
    "An ip address is a numerical label assigned to each device directly connected to a network.  When we make a request to a website using a domain name, that domain name is translated to an ip address.  This is the address where the application can be reached."
   ]
  },
  {
   "cell_type": "markdown",
   "metadata": {},
   "source": [
    "* **firewall** \n",
    "\n",
    "Now just because someone knocks on the door does not mean that web server has to let them in.  The firewall is designed to prevent unauthorized acccess to the server."
   ]
  },
  {
   "cell_type": "markdown",
   "metadata": {},
   "source": [
    "* **ssh**"
   ]
  },
  {
   "cell_type": "markdown",
   "metadata": {},
   "source": [
    "SSH is how we'll access the shell of our server.  By accessing the server's shell we'll be able to move over our application code and kick off our flask application.  This access is password protected through an ssh key."
   ]
  },
  {
   "cell_type": "markdown",
   "metadata": {},
   "source": [
    "### AWS Terms"
   ]
  },
  {
   "cell_type": "markdown",
   "metadata": {},
   "source": [
    "Now when setting up our EC2 instance, we will provide configuration for the same techcnologies -- they just go by different names."
   ]
  },
  {
   "cell_type": "markdown",
   "metadata": {},
   "source": [
    "<img src=\"./aws_lingo.jpg\" width=\"40%\">"
   ]
  },
  {
   "cell_type": "markdown",
   "metadata": {},
   "source": [
    "For example, the firewall is referred to as a **security group**.  It prevents unauthorized acccess and determines who can login to the computer.  The server is the **EC2 instance** itself, which will house our application.  The hard drive is referred to as **Elastic Block Store** or an EBS volume.  It's elastic, perhaps, because we can add additional EBS volumes to our EC2 instance.  And the SSH key is referred to as the **key pair**.  "
   ]
  },
  {
   "cell_type": "markdown",
   "metadata": {},
   "source": [
    "### Summary"
   ]
  },
  {
   "cell_type": "markdown",
   "metadata": {},
   "source": [
    "In this lesson, we learned about the different components of web server."
   ]
  },
  {
   "cell_type": "markdown",
   "metadata": {},
   "source": [
    "<img src=\"./aws_lingo.jpg\" width=\"40%\">"
   ]
  },
  {
   "cell_type": "markdown",
   "metadata": {},
   "source": [
    "To start, our webserver consists of the actual computer -- aka the server or machine -- that runs our code.  And as a closely connected part of that computer is the hard drive.  A client (such as a web browser) may request access to the web server, but protecting that acccess is a firewall, which sets certain rules governing acccess.  Beyond simply making a request to the web application through the browser, a developer may wish to access the machine through the shell, which is governed by ssh access.\n",
    "\n",
    "There are AWS equivalents to each of these components:\n",
    "\n",
    "* firewall -> Security Group\n",
    "* server -> EC2 machine\n",
    "* hard drive -> Elastic Block Store (EBS Volume)\n",
    "* SSH Key -> Key Pair"
   ]
  }
 ],
 "metadata": {
  "kernelspec": {
   "display_name": "Python 3",
   "language": "python",
   "name": "python3"
  },
  "language_info": {
   "codemirror_mode": {
    "name": "ipython",
    "version": 3
   },
   "file_extension": ".py",
   "mimetype": "text/x-python",
   "name": "python",
   "nbconvert_exporter": "python",
   "pygments_lexer": "ipython3",
   "version": "3.9.1"
  }
 },
 "nbformat": 4,
 "nbformat_minor": 4
}
